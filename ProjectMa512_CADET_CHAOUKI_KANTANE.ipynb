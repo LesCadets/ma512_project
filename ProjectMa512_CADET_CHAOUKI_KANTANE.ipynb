{
 "cells": [
  {
   "cell_type": "markdown",
   "source": [
    "# 1. Import relevant libraries"
   ],
   "metadata": {
    "collapsed": false
   }
  },
  {
   "cell_type": "code",
   "execution_count": 352,
   "metadata": {
    "collapsed": true,
    "ExecuteTime": {
     "end_time": "2024-01-07T22:10:23.447162800Z",
     "start_time": "2024-01-07T22:10:23.255063300Z"
    }
   },
   "outputs": [],
   "source": [
    "import pandas as pd\n",
    "from sklearn.model_selection import train_test_split"
   ]
  },
  {
   "cell_type": "markdown",
   "source": [
    "# 2. Load and split the dataset"
   ],
   "metadata": {
    "collapsed": false
   }
  },
  {
   "cell_type": "code",
   "execution_count": 353,
   "outputs": [
    {
     "data": {
      "text/plain": "   Z  A     E  Theta  omega  cross_section  E_omega  cos_Theta     E_ela  \\\n0  2  4  0.15   60.0  0.020         6600.0  0.01950        0.5  0.011088   \n1  2  4  0.15   60.0  0.025         8242.5  0.01875        0.5  0.011088   \n2  2  4  0.15   60.0  0.030        12422.5  0.01800        0.5  0.011088   \n3  2  4  0.15   60.0  0.035        12080.0  0.01725        0.5  0.011088   \n4  2  4  0.15   60.0  0.040        10205.0  0.01650        0.5  0.011088   \n\n    E_inela  \n0  0.324102  \n1  0.324102  \n2  0.324102  \n3  0.324102  \n4  0.324102  ",
      "text/html": "<div>\n<style scoped>\n    .dataframe tbody tr th:only-of-type {\n        vertical-align: middle;\n    }\n\n    .dataframe tbody tr th {\n        vertical-align: top;\n    }\n\n    .dataframe thead th {\n        text-align: right;\n    }\n</style>\n<table border=\"1\" class=\"dataframe\">\n  <thead>\n    <tr style=\"text-align: right;\">\n      <th></th>\n      <th>Z</th>\n      <th>A</th>\n      <th>E</th>\n      <th>Theta</th>\n      <th>omega</th>\n      <th>cross_section</th>\n      <th>E_omega</th>\n      <th>cos_Theta</th>\n      <th>E_ela</th>\n      <th>E_inela</th>\n    </tr>\n  </thead>\n  <tbody>\n    <tr>\n      <th>0</th>\n      <td>2</td>\n      <td>4</td>\n      <td>0.15</td>\n      <td>60.0</td>\n      <td>0.020</td>\n      <td>6600.0</td>\n      <td>0.01950</td>\n      <td>0.5</td>\n      <td>0.011088</td>\n      <td>0.324102</td>\n    </tr>\n    <tr>\n      <th>1</th>\n      <td>2</td>\n      <td>4</td>\n      <td>0.15</td>\n      <td>60.0</td>\n      <td>0.025</td>\n      <td>8242.5</td>\n      <td>0.01875</td>\n      <td>0.5</td>\n      <td>0.011088</td>\n      <td>0.324102</td>\n    </tr>\n    <tr>\n      <th>2</th>\n      <td>2</td>\n      <td>4</td>\n      <td>0.15</td>\n      <td>60.0</td>\n      <td>0.030</td>\n      <td>12422.5</td>\n      <td>0.01800</td>\n      <td>0.5</td>\n      <td>0.011088</td>\n      <td>0.324102</td>\n    </tr>\n    <tr>\n      <th>3</th>\n      <td>2</td>\n      <td>4</td>\n      <td>0.15</td>\n      <td>60.0</td>\n      <td>0.035</td>\n      <td>12080.0</td>\n      <td>0.01725</td>\n      <td>0.5</td>\n      <td>0.011088</td>\n      <td>0.324102</td>\n    </tr>\n    <tr>\n      <th>4</th>\n      <td>2</td>\n      <td>4</td>\n      <td>0.15</td>\n      <td>60.0</td>\n      <td>0.040</td>\n      <td>10205.0</td>\n      <td>0.01650</td>\n      <td>0.5</td>\n      <td>0.011088</td>\n      <td>0.324102</td>\n    </tr>\n  </tbody>\n</table>\n</div>"
     },
     "execution_count": 353,
     "metadata": {},
     "output_type": "execute_result"
    }
   ],
   "source": [
    "# Load the dataset\n",
    "df = pd.read_csv('data_x_y.csv')\n",
    "df.head()"
   ],
   "metadata": {
    "collapsed": false,
    "ExecuteTime": {
     "end_time": "2024-01-07T22:10:23.544958100Z",
     "start_time": "2024-01-07T22:10:23.452154300Z"
    }
   }
  },
  {
   "cell_type": "markdown",
   "source": [
    "We need to separate the features from the target variable. Then we can split the dataset into training and test sets."
   ],
   "metadata": {
    "collapsed": false
   }
  },
  {
   "cell_type": "code",
   "execution_count": 354,
   "outputs": [
    {
     "name": "stdout",
     "output_type": "stream",
     "text": [
      "X shape: (10862, 9)\n",
      "y shape: (10862,)\n"
     ]
    }
   ],
   "source": [
    "# Build X and y datasets\n",
    "X = df.drop('cross_section', axis=1)\n",
    "y = df['cross_section']\n",
    "\n",
    "print(\"X shape:\", X.shape)\n",
    "print(\"y shape:\", y.shape)"
   ],
   "metadata": {
    "collapsed": false,
    "ExecuteTime": {
     "end_time": "2024-01-07T22:10:23.546176700Z",
     "start_time": "2024-01-07T22:10:23.496522100Z"
    }
   }
  },
  {
   "cell_type": "markdown",
   "source": [
    "Description of the dataset"
   ],
   "metadata": {
    "collapsed": false
   }
  },
  {
   "cell_type": "code",
   "execution_count": 355,
   "outputs": [
    {
     "data": {
      "text/plain": "                  Z             A             E         Theta         omega  \\\ncount  10862.000000  10862.000000  10862.000000  10862.000000  10862.000000   \nmean      11.625575     25.184773      2.272971     49.908801      0.672979   \nstd        9.544165     21.314716      2.171930     40.136723      0.830657   \nmin        2.000000      4.000000      0.120000      8.000000      0.000000   \n25%        2.000000      4.000000      0.480000     18.000000      0.155000   \n50%        6.000000     12.000000      1.500000     37.100000      0.340750   \n75%       20.000000     48.000000      3.595000     60.000000      0.810000   \nmax       28.000000     59.000000     14.700000    180.000000      4.973100   \n\n       cross_section       E_omega     cos_Theta         E_ela       E_inela  \ncount   1.086200e+04  10862.000000  10862.000000  10862.000000  10862.000000  \nmean    1.196156e+03      1.163087      0.563965      0.620456      0.875410  \nstd     4.305126e+03      1.683546      0.539676      0.854044      0.818923  \nmin     9.174250e-07      0.008067     -1.000000      0.005040      0.292589  \n25%     3.828958e+00      0.137882      0.500000      0.099204      0.369501  \n50%     1.455643e+02      0.326079      0.797584      0.201363      0.455344  \n75%     5.666667e+02      1.645252      0.951057      0.949333      1.198077  \nmax     7.996667e+04      9.704832      0.990268      3.959699      4.065583  ",
      "text/html": "<div>\n<style scoped>\n    .dataframe tbody tr th:only-of-type {\n        vertical-align: middle;\n    }\n\n    .dataframe tbody tr th {\n        vertical-align: top;\n    }\n\n    .dataframe thead th {\n        text-align: right;\n    }\n</style>\n<table border=\"1\" class=\"dataframe\">\n  <thead>\n    <tr style=\"text-align: right;\">\n      <th></th>\n      <th>Z</th>\n      <th>A</th>\n      <th>E</th>\n      <th>Theta</th>\n      <th>omega</th>\n      <th>cross_section</th>\n      <th>E_omega</th>\n      <th>cos_Theta</th>\n      <th>E_ela</th>\n      <th>E_inela</th>\n    </tr>\n  </thead>\n  <tbody>\n    <tr>\n      <th>count</th>\n      <td>10862.000000</td>\n      <td>10862.000000</td>\n      <td>10862.000000</td>\n      <td>10862.000000</td>\n      <td>10862.000000</td>\n      <td>1.086200e+04</td>\n      <td>10862.000000</td>\n      <td>10862.000000</td>\n      <td>10862.000000</td>\n      <td>10862.000000</td>\n    </tr>\n    <tr>\n      <th>mean</th>\n      <td>11.625575</td>\n      <td>25.184773</td>\n      <td>2.272971</td>\n      <td>49.908801</td>\n      <td>0.672979</td>\n      <td>1.196156e+03</td>\n      <td>1.163087</td>\n      <td>0.563965</td>\n      <td>0.620456</td>\n      <td>0.875410</td>\n    </tr>\n    <tr>\n      <th>std</th>\n      <td>9.544165</td>\n      <td>21.314716</td>\n      <td>2.171930</td>\n      <td>40.136723</td>\n      <td>0.830657</td>\n      <td>4.305126e+03</td>\n      <td>1.683546</td>\n      <td>0.539676</td>\n      <td>0.854044</td>\n      <td>0.818923</td>\n    </tr>\n    <tr>\n      <th>min</th>\n      <td>2.000000</td>\n      <td>4.000000</td>\n      <td>0.120000</td>\n      <td>8.000000</td>\n      <td>0.000000</td>\n      <td>9.174250e-07</td>\n      <td>0.008067</td>\n      <td>-1.000000</td>\n      <td>0.005040</td>\n      <td>0.292589</td>\n    </tr>\n    <tr>\n      <th>25%</th>\n      <td>2.000000</td>\n      <td>4.000000</td>\n      <td>0.480000</td>\n      <td>18.000000</td>\n      <td>0.155000</td>\n      <td>3.828958e+00</td>\n      <td>0.137882</td>\n      <td>0.500000</td>\n      <td>0.099204</td>\n      <td>0.369501</td>\n    </tr>\n    <tr>\n      <th>50%</th>\n      <td>6.000000</td>\n      <td>12.000000</td>\n      <td>1.500000</td>\n      <td>37.100000</td>\n      <td>0.340750</td>\n      <td>1.455643e+02</td>\n      <td>0.326079</td>\n      <td>0.797584</td>\n      <td>0.201363</td>\n      <td>0.455344</td>\n    </tr>\n    <tr>\n      <th>75%</th>\n      <td>20.000000</td>\n      <td>48.000000</td>\n      <td>3.595000</td>\n      <td>60.000000</td>\n      <td>0.810000</td>\n      <td>5.666667e+02</td>\n      <td>1.645252</td>\n      <td>0.951057</td>\n      <td>0.949333</td>\n      <td>1.198077</td>\n    </tr>\n    <tr>\n      <th>max</th>\n      <td>28.000000</td>\n      <td>59.000000</td>\n      <td>14.700000</td>\n      <td>180.000000</td>\n      <td>4.973100</td>\n      <td>7.996667e+04</td>\n      <td>9.704832</td>\n      <td>0.990268</td>\n      <td>3.959699</td>\n      <td>4.065583</td>\n    </tr>\n  </tbody>\n</table>\n</div>"
     },
     "execution_count": 355,
     "metadata": {},
     "output_type": "execute_result"
    }
   ],
   "source": [
    "df.describe()"
   ],
   "metadata": {
    "collapsed": false,
    "ExecuteTime": {
     "end_time": "2024-01-07T22:10:23.752282800Z",
     "start_time": "2024-01-07T22:10:23.548710300Z"
    }
   }
  },
  {
   "cell_type": "markdown",
   "source": [
    "We can see that there are huge differences between values for the mean and the standard deviation. We need to normalize the data in order to not bias the model training towards the features with the highest values."
   ],
   "metadata": {
    "collapsed": false
   }
  },
  {
   "cell_type": "markdown",
   "source": [
    "Dataset split"
   ],
   "metadata": {
    "collapsed": false
   }
  },
  {
   "cell_type": "code",
   "execution_count": 356,
   "outputs": [
    {
     "name": "stdout",
     "output_type": "stream",
     "text": [
      "X_train shape: (8689, 9)\n",
      "y_train shape: (8689,)\n",
      "X_test shape: (2173, 9)\n",
      "y_test shape: (2173,)\n"
     ]
    }
   ],
   "source": [
    "# Split the dataset into training and test sets\n",
    "X_train, X_test, y_train, y_test = train_test_split(X, y, test_size=0.2, random_state=42)\n",
    "\n",
    "print(\"X_train shape:\", X_train.shape)\n",
    "print(\"y_train shape:\", y_train.shape)\n",
    "print(\"X_test shape:\", X_test.shape)\n",
    "print(\"y_test shape:\", y_test.shape)"
   ],
   "metadata": {
    "collapsed": false,
    "ExecuteTime": {
     "end_time": "2024-01-07T22:10:23.811903200Z",
     "start_time": "2024-01-07T22:10:23.624432800Z"
    }
   }
  },
  {
   "cell_type": "markdown",
   "source": [
    "# 3. Normalize the data"
   ],
   "metadata": {
    "collapsed": false
   }
  },
  {
   "cell_type": "markdown",
   "source": [
    "To normalize the data, we use the method of scikit-learn called StandardScaler. For our dataset, this method is sufficient. We could have used other methods like MinMaxScaler or RobustScaler."
   ],
   "metadata": {
    "collapsed": false
   }
  },
  {
   "cell_type": "code",
   "execution_count": 357,
   "outputs": [],
   "source": [
    "from sklearn.preprocessing import StandardScaler\n",
    "\n",
    "scaler = StandardScaler()\n",
    "\n",
    "X_train_norm = scaler.fit_transform(X_train)\n",
    "X_test_norm = scaler.transform(X_test)\n",
    "y_train_norm = scaler.fit_transform(y_train.values.reshape(-1, 1))\n",
    "y_test_norm = scaler.transform(y_test.values.reshape(-1, 1))\n",
    "\n",
    "X_train_norm = pd.DataFrame(X_train_norm, columns=X_train.columns)\n",
    "X_test_norm = pd.DataFrame(X_test_norm, columns=X_test.columns)\n",
    "y_train_norm = pd.DataFrame(y_train_norm, columns=[\"cross_section_norm\"])\n",
    "y_test_norm = pd.DataFrame(y_test_norm, columns=[\"cross_section_norm\"])"
   ],
   "metadata": {
    "collapsed": false,
    "ExecuteTime": {
     "end_time": "2024-01-07T22:10:24.010286100Z",
     "start_time": "2024-01-07T22:10:23.764445700Z"
    }
   }
  },
  {
   "cell_type": "code",
   "outputs": [
    {
     "data": {
      "text/plain": "          Z         A         E     Theta     omega   E_omega  cos_Theta  \\\n0 -1.007970 -0.993436 -0.890399  1.004997 -0.523140 -0.640145  -1.050841   \n1  1.507503  1.446019  0.828183  0.130433  1.961909  2.891880   0.014926   \n2  0.144955  0.085554  0.618884 -0.494006  1.274299  0.380935   0.558166   \n3  1.507503  1.446019 -0.537846 -0.306850 -0.028543 -0.562158   0.423296   \n4 -0.903158 -0.899611 -0.820633  0.255370 -0.596123 -0.591374  -0.121787   \n\n      E_ela   E_inela  \n0 -0.611812 -0.649191  \n1  2.341924  2.276401  \n2  0.703591  0.694857  \n3 -0.468890 -0.468985  \n4 -0.600006 -0.611605  ",
      "text/html": "<div>\n<style scoped>\n    .dataframe tbody tr th:only-of-type {\n        vertical-align: middle;\n    }\n\n    .dataframe tbody tr th {\n        vertical-align: top;\n    }\n\n    .dataframe thead th {\n        text-align: right;\n    }\n</style>\n<table border=\"1\" class=\"dataframe\">\n  <thead>\n    <tr style=\"text-align: right;\">\n      <th></th>\n      <th>Z</th>\n      <th>A</th>\n      <th>E</th>\n      <th>Theta</th>\n      <th>omega</th>\n      <th>E_omega</th>\n      <th>cos_Theta</th>\n      <th>E_ela</th>\n      <th>E_inela</th>\n    </tr>\n  </thead>\n  <tbody>\n    <tr>\n      <th>0</th>\n      <td>-1.007970</td>\n      <td>-0.993436</td>\n      <td>-0.890399</td>\n      <td>1.004997</td>\n      <td>-0.523140</td>\n      <td>-0.640145</td>\n      <td>-1.050841</td>\n      <td>-0.611812</td>\n      <td>-0.649191</td>\n    </tr>\n    <tr>\n      <th>1</th>\n      <td>1.507503</td>\n      <td>1.446019</td>\n      <td>0.828183</td>\n      <td>0.130433</td>\n      <td>1.961909</td>\n      <td>2.891880</td>\n      <td>0.014926</td>\n      <td>2.341924</td>\n      <td>2.276401</td>\n    </tr>\n    <tr>\n      <th>2</th>\n      <td>0.144955</td>\n      <td>0.085554</td>\n      <td>0.618884</td>\n      <td>-0.494006</td>\n      <td>1.274299</td>\n      <td>0.380935</td>\n      <td>0.558166</td>\n      <td>0.703591</td>\n      <td>0.694857</td>\n    </tr>\n    <tr>\n      <th>3</th>\n      <td>1.507503</td>\n      <td>1.446019</td>\n      <td>-0.537846</td>\n      <td>-0.306850</td>\n      <td>-0.028543</td>\n      <td>-0.562158</td>\n      <td>0.423296</td>\n      <td>-0.468890</td>\n      <td>-0.468985</td>\n    </tr>\n    <tr>\n      <th>4</th>\n      <td>-0.903158</td>\n      <td>-0.899611</td>\n      <td>-0.820633</td>\n      <td>0.255370</td>\n      <td>-0.596123</td>\n      <td>-0.591374</td>\n      <td>-0.121787</td>\n      <td>-0.600006</td>\n      <td>-0.611605</td>\n    </tr>\n  </tbody>\n</table>\n</div>"
     },
     "execution_count": 358,
     "metadata": {},
     "output_type": "execute_result"
    }
   ],
   "source": [
    "X_train_norm.head()"
   ],
   "metadata": {
    "collapsed": false,
    "ExecuteTime": {
     "end_time": "2024-01-07T22:10:24.049773200Z",
     "start_time": "2024-01-07T22:10:23.905699100Z"
    }
   },
   "execution_count": 358
  },
  {
   "cell_type": "code",
   "outputs": [
    {
     "data": {
      "text/plain": "                  Z             A             E         Theta         omega  \\\ncount  8.689000e+03  8.689000e+03  8.689000e+03  8.689000e+03  8.689000e+03   \nmean   6.255785e-17  1.471950e-17 -1.942156e-17 -3.291443e-17 -1.249113e-16   \nstd    1.000058e+00  1.000058e+00  1.000058e+00  1.000058e+00  1.000058e+00   \nmin   -1.007970e+00 -9.934358e-01 -9.973745e-01 -1.043983e+00 -8.066288e-01   \n25%   -1.007970e+00 -9.934358e-01 -8.299348e-01 -7.941070e-01 -6.196469e-01   \n50%   -5.887241e-01 -6.181350e-01 -3.555224e-01 -3.168446e-01 -3.964750e-01   \n75%    8.786350e-01  1.070718e+00  6.188835e-01  2.553705e-01  1.524073e-01   \nmax    1.717126e+00  1.586757e+00  5.783933e+00  3.253877e+00  5.192594e+00   \n\n            E_omega     cos_Theta         E_ela       E_inela  \ncount  8.689000e+03  8.689000e+03  8.689000e+03  8.689000e+03  \nmean  -3.230111e-17  6.705548e-17 -3.107449e-17 -4.538511e-17  \nstd    1.000058e+00  1.000058e+00  1.000058e+00  1.000058e+00  \nmin   -6.830946e-01 -2.908950e+00 -7.170973e-01 -7.086016e-01  \n25%   -6.073541e-01 -1.217868e-01 -6.068840e-01 -6.173468e-01  \n50%   -4.956286e-01  4.311566e-01 -4.898760e-01 -5.121852e-01  \n75%    2.694810e-01  7.163253e-01  3.675928e-01  3.967791e-01  \nmax    5.066705e+00  7.891847e-01  3.911592e+00  3.897308e+00  ",
      "text/html": "<div>\n<style scoped>\n    .dataframe tbody tr th:only-of-type {\n        vertical-align: middle;\n    }\n\n    .dataframe tbody tr th {\n        vertical-align: top;\n    }\n\n    .dataframe thead th {\n        text-align: right;\n    }\n</style>\n<table border=\"1\" class=\"dataframe\">\n  <thead>\n    <tr style=\"text-align: right;\">\n      <th></th>\n      <th>Z</th>\n      <th>A</th>\n      <th>E</th>\n      <th>Theta</th>\n      <th>omega</th>\n      <th>E_omega</th>\n      <th>cos_Theta</th>\n      <th>E_ela</th>\n      <th>E_inela</th>\n    </tr>\n  </thead>\n  <tbody>\n    <tr>\n      <th>count</th>\n      <td>8.689000e+03</td>\n      <td>8.689000e+03</td>\n      <td>8.689000e+03</td>\n      <td>8.689000e+03</td>\n      <td>8.689000e+03</td>\n      <td>8.689000e+03</td>\n      <td>8.689000e+03</td>\n      <td>8.689000e+03</td>\n      <td>8.689000e+03</td>\n    </tr>\n    <tr>\n      <th>mean</th>\n      <td>6.255785e-17</td>\n      <td>1.471950e-17</td>\n      <td>-1.942156e-17</td>\n      <td>-3.291443e-17</td>\n      <td>-1.249113e-16</td>\n      <td>-3.230111e-17</td>\n      <td>6.705548e-17</td>\n      <td>-3.107449e-17</td>\n      <td>-4.538511e-17</td>\n    </tr>\n    <tr>\n      <th>std</th>\n      <td>1.000058e+00</td>\n      <td>1.000058e+00</td>\n      <td>1.000058e+00</td>\n      <td>1.000058e+00</td>\n      <td>1.000058e+00</td>\n      <td>1.000058e+00</td>\n      <td>1.000058e+00</td>\n      <td>1.000058e+00</td>\n      <td>1.000058e+00</td>\n    </tr>\n    <tr>\n      <th>min</th>\n      <td>-1.007970e+00</td>\n      <td>-9.934358e-01</td>\n      <td>-9.973745e-01</td>\n      <td>-1.043983e+00</td>\n      <td>-8.066288e-01</td>\n      <td>-6.830946e-01</td>\n      <td>-2.908950e+00</td>\n      <td>-7.170973e-01</td>\n      <td>-7.086016e-01</td>\n    </tr>\n    <tr>\n      <th>25%</th>\n      <td>-1.007970e+00</td>\n      <td>-9.934358e-01</td>\n      <td>-8.299348e-01</td>\n      <td>-7.941070e-01</td>\n      <td>-6.196469e-01</td>\n      <td>-6.073541e-01</td>\n      <td>-1.217868e-01</td>\n      <td>-6.068840e-01</td>\n      <td>-6.173468e-01</td>\n    </tr>\n    <tr>\n      <th>50%</th>\n      <td>-5.887241e-01</td>\n      <td>-6.181350e-01</td>\n      <td>-3.555224e-01</td>\n      <td>-3.168446e-01</td>\n      <td>-3.964750e-01</td>\n      <td>-4.956286e-01</td>\n      <td>4.311566e-01</td>\n      <td>-4.898760e-01</td>\n      <td>-5.121852e-01</td>\n    </tr>\n    <tr>\n      <th>75%</th>\n      <td>8.786350e-01</td>\n      <td>1.070718e+00</td>\n      <td>6.188835e-01</td>\n      <td>2.553705e-01</td>\n      <td>1.524073e-01</td>\n      <td>2.694810e-01</td>\n      <td>7.163253e-01</td>\n      <td>3.675928e-01</td>\n      <td>3.967791e-01</td>\n    </tr>\n    <tr>\n      <th>max</th>\n      <td>1.717126e+00</td>\n      <td>1.586757e+00</td>\n      <td>5.783933e+00</td>\n      <td>3.253877e+00</td>\n      <td>5.192594e+00</td>\n      <td>5.066705e+00</td>\n      <td>7.891847e-01</td>\n      <td>3.911592e+00</td>\n      <td>3.897308e+00</td>\n    </tr>\n  </tbody>\n</table>\n</div>"
     },
     "execution_count": 359,
     "metadata": {},
     "output_type": "execute_result"
    }
   ],
   "source": [
    "X_train_norm.describe()"
   ],
   "metadata": {
    "collapsed": false,
    "ExecuteTime": {
     "end_time": "2024-01-07T22:10:24.263026700Z",
     "start_time": "2024-01-07T22:10:24.020713500Z"
    }
   },
   "execution_count": 359
  },
  {
   "cell_type": "markdown",
   "source": [
    "When we look at the description of the normalized x_train dataset (for example), we can see that the mean is approximately 0 and the standard deviation is approximately 1. same goes for the other parts of the dataset. They can now be used to train the model without biasing it."
   ],
   "metadata": {
    "collapsed": false
   }
  },
  {
   "cell_type": "markdown",
   "source": [
    "# 4. Build the model"
   ],
   "metadata": {
    "collapsed": false
   }
  },
  {
   "cell_type": "markdown",
   "source": [
    "Import the relevant libraries"
   ],
   "metadata": {
    "collapsed": false
   }
  },
  {
   "cell_type": "code",
   "execution_count": 360,
   "outputs": [],
   "source": [
    "from tensorflow import keras\n",
    "import numpy as np\n",
    "import matplotlib.pyplot as plt"
   ],
   "metadata": {
    "collapsed": false,
    "ExecuteTime": {
     "end_time": "2024-01-07T22:10:24.288835800Z",
     "start_time": "2024-01-07T22:10:24.148138Z"
    }
   }
  },
  {
   "cell_type": "markdown",
   "source": [
    "Build the model"
   ],
   "metadata": {
    "collapsed": false
   }
  },
  {
   "cell_type": "code",
   "execution_count": 361,
   "outputs": [],
   "source": [
    "def build_model():\n",
    "    model = keras.Sequential([\n",
    "        keras.layers.Dense(X_train_norm.shape[1], activation='relu', kernel_initializer=\"he_normal\", input_shape=(X_train_norm.shape[1],)),\n",
    "        keras.layers.Dense(128, activation='relu', kernel_initializer=\"he_normal\"),\n",
    "        keras.layers.Dense(64, activation='relu', kernel_initializer=\"he_normal\"),\n",
    "        keras.layers.Dense(64, activation='relu', kernel_initializer=\"he_normal\"),\n",
    "        keras.layers.Dense(1)\n",
    "    ])\n",
    "\n",
    "    optimizer = keras.optimizers.Adam(learning_rate=0.001)\n",
    "    loss = keras.losses.MeanSquaredError()\n",
    "    metrics = keras.metrics.MeanSquaredError()\n",
    "    model.compile(optimizer=optimizer, loss=loss, metrics=metrics)\n",
    "\n",
    "    return model"
   ],
   "metadata": {
    "collapsed": false,
    "ExecuteTime": {
     "end_time": "2024-01-07T22:10:24.547719500Z",
     "start_time": "2024-01-07T22:10:24.295586100Z"
    }
   }
  },
  {
   "cell_type": "markdown",
   "source": [
    "The model we built is composed of 3 hidden layers. The output layer has 1 neuron as we are trying to predict an unique number. The activation function used is the ReLU function for hidden layers. The optimizer used is the Adam optimizer, with a learning rate of 0.001.\n",
    "\n",
    "As we are in a regression problem, we can use the mean squared error as loss which is great for these types of problems and the same mean squared error for the metrics."
   ],
   "metadata": {
    "collapsed": false
   }
  },
  {
   "cell_type": "markdown",
   "source": [
    "Model summary"
   ],
   "metadata": {
    "collapsed": false
   }
  },
  {
   "cell_type": "code",
   "execution_count": 362,
   "outputs": [
    {
     "name": "stdout",
     "output_type": "stream",
     "text": [
      "Model: \"sequential_32\"\n",
      "_________________________________________________________________\n",
      " Layer (type)                Output Shape              Param #   \n",
      "=================================================================\n",
      " dense_158 (Dense)           (None, 9)                 90        \n",
      "                                                                 \n",
      " dense_159 (Dense)           (None, 128)               1280      \n",
      "                                                                 \n",
      " dense_160 (Dense)           (None, 64)                8256      \n",
      "                                                                 \n",
      " dense_161 (Dense)           (None, 64)                4160      \n",
      "                                                                 \n",
      " dense_162 (Dense)           (None, 1)                 65        \n",
      "                                                                 \n",
      "=================================================================\n",
      "Total params: 13851 (54.11 KB)\n",
      "Trainable params: 13851 (54.11 KB)\n",
      "Non-trainable params: 0 (0.00 Byte)\n",
      "_________________________________________________________________\n"
     ]
    }
   ],
   "source": [
    "# Build the model\n",
    "model = build_model()\n",
    "\n",
    "# Print the model summary\n",
    "model.summary()"
   ],
   "metadata": {
    "collapsed": false,
    "ExecuteTime": {
     "end_time": "2024-01-07T22:10:24.643415100Z",
     "start_time": "2024-01-07T22:10:24.450951800Z"
    }
   }
  },
  {
   "cell_type": "markdown",
   "source": [
    "Train the model"
   ],
   "metadata": {
    "collapsed": false
   }
  },
  {
   "cell_type": "code",
   "execution_count": 363,
   "outputs": [
    {
     "name": "stdout",
     "output_type": "stream",
     "text": [
      "Epoch 1/50\n",
      "544/544 [==============================] - 2s 2ms/step - loss: 0.6406 - mean_squared_error: 0.6406 - val_loss: 0.4051 - val_mean_squared_error: 0.4051\n",
      "Epoch 2/50\n",
      "544/544 [==============================] - 1s 2ms/step - loss: 0.4958 - mean_squared_error: 0.4958 - val_loss: 0.2973 - val_mean_squared_error: 0.2973\n",
      "Epoch 3/50\n",
      "544/544 [==============================] - 1s 2ms/step - loss: 0.4629 - mean_squared_error: 0.4629 - val_loss: 0.3543 - val_mean_squared_error: 0.3543\n",
      "Epoch 4/50\n",
      "544/544 [==============================] - 1s 2ms/step - loss: 0.4242 - mean_squared_error: 0.4242 - val_loss: 0.2558 - val_mean_squared_error: 0.2558\n",
      "Epoch 5/50\n",
      "544/544 [==============================] - 1s 2ms/step - loss: 0.3752 - mean_squared_error: 0.3752 - val_loss: 0.2204 - val_mean_squared_error: 0.2204\n",
      "Epoch 6/50\n",
      "544/544 [==============================] - 1s 2ms/step - loss: 0.3573 - mean_squared_error: 0.3573 - val_loss: 0.2947 - val_mean_squared_error: 0.2947\n",
      "Epoch 7/50\n",
      "544/544 [==============================] - 1s 2ms/step - loss: 0.3568 - mean_squared_error: 0.3568 - val_loss: 0.2462 - val_mean_squared_error: 0.2462\n",
      "Epoch 8/50\n",
      "544/544 [==============================] - 1s 2ms/step - loss: 0.2975 - mean_squared_error: 0.2975 - val_loss: 0.2372 - val_mean_squared_error: 0.2372\n",
      "Epoch 9/50\n",
      "544/544 [==============================] - 1s 2ms/step - loss: 0.3568 - mean_squared_error: 0.3568 - val_loss: 0.2184 - val_mean_squared_error: 0.2184\n",
      "Epoch 10/50\n",
      "544/544 [==============================] - 1s 2ms/step - loss: 0.2781 - mean_squared_error: 0.2781 - val_loss: 0.1719 - val_mean_squared_error: 0.1719\n",
      "Epoch 11/50\n",
      "544/544 [==============================] - 1s 2ms/step - loss: 0.2873 - mean_squared_error: 0.2873 - val_loss: 0.1633 - val_mean_squared_error: 0.1633\n",
      "Epoch 12/50\n",
      "544/544 [==============================] - 1s 2ms/step - loss: 0.2735 - mean_squared_error: 0.2735 - val_loss: 0.1607 - val_mean_squared_error: 0.1607\n",
      "Epoch 13/50\n",
      "544/544 [==============================] - 1s 2ms/step - loss: 0.2557 - mean_squared_error: 0.2557 - val_loss: 0.1544 - val_mean_squared_error: 0.1544\n",
      "Epoch 14/50\n",
      "544/544 [==============================] - 1s 2ms/step - loss: 0.2391 - mean_squared_error: 0.2391 - val_loss: 0.2018 - val_mean_squared_error: 0.2018\n",
      "Epoch 15/50\n",
      "544/544 [==============================] - 1s 2ms/step - loss: 0.2369 - mean_squared_error: 0.2369 - val_loss: 0.2685 - val_mean_squared_error: 0.2685\n",
      "Epoch 16/50\n",
      "544/544 [==============================] - 1s 2ms/step - loss: 0.2392 - mean_squared_error: 0.2392 - val_loss: 0.3620 - val_mean_squared_error: 0.3620\n",
      "Epoch 17/50\n",
      "544/544 [==============================] - 1s 2ms/step - loss: 0.2268 - mean_squared_error: 0.2268 - val_loss: 0.1239 - val_mean_squared_error: 0.1239\n",
      "Epoch 18/50\n",
      "544/544 [==============================] - 1s 3ms/step - loss: 0.2155 - mean_squared_error: 0.2155 - val_loss: 0.2240 - val_mean_squared_error: 0.2240\n",
      "Epoch 19/50\n",
      "544/544 [==============================] - 1s 2ms/step - loss: 0.2177 - mean_squared_error: 0.2177 - val_loss: 0.1635 - val_mean_squared_error: 0.1635\n",
      "Epoch 20/50\n",
      "544/544 [==============================] - 1s 2ms/step - loss: 0.2036 - mean_squared_error: 0.2036 - val_loss: 0.1421 - val_mean_squared_error: 0.1421\n",
      "Epoch 21/50\n",
      "544/544 [==============================] - 1s 2ms/step - loss: 0.1963 - mean_squared_error: 0.1963 - val_loss: 0.1959 - val_mean_squared_error: 0.1959\n",
      "Epoch 22/50\n",
      "544/544 [==============================] - 1s 2ms/step - loss: 0.1791 - mean_squared_error: 0.1791 - val_loss: 0.1330 - val_mean_squared_error: 0.1330\n",
      "Epoch 23/50\n",
      "544/544 [==============================] - 1s 2ms/step - loss: 0.1711 - mean_squared_error: 0.1711 - val_loss: 0.1826 - val_mean_squared_error: 0.1826\n",
      "Epoch 24/50\n",
      "544/544 [==============================] - 1s 2ms/step - loss: 0.1778 - mean_squared_error: 0.1778 - val_loss: 0.1113 - val_mean_squared_error: 0.1113\n",
      "Epoch 25/50\n",
      "544/544 [==============================] - 1s 2ms/step - loss: 0.2083 - mean_squared_error: 0.2083 - val_loss: 0.1227 - val_mean_squared_error: 0.1227\n",
      "Epoch 26/50\n",
      "544/544 [==============================] - 1s 2ms/step - loss: 0.1678 - mean_squared_error: 0.1678 - val_loss: 0.1109 - val_mean_squared_error: 0.1109\n",
      "Epoch 27/50\n",
      "544/544 [==============================] - 1s 2ms/step - loss: 0.2118 - mean_squared_error: 0.2118 - val_loss: 0.1089 - val_mean_squared_error: 0.1089\n",
      "Epoch 28/50\n",
      "544/544 [==============================] - 1s 2ms/step - loss: 0.1979 - mean_squared_error: 0.1979 - val_loss: 0.0968 - val_mean_squared_error: 0.0968\n",
      "Epoch 29/50\n",
      "544/544 [==============================] - 1s 2ms/step - loss: 0.1832 - mean_squared_error: 0.1832 - val_loss: 0.6257 - val_mean_squared_error: 0.6257\n",
      "Epoch 30/50\n",
      "544/544 [==============================] - 1s 2ms/step - loss: 0.1960 - mean_squared_error: 0.1960 - val_loss: 0.1010 - val_mean_squared_error: 0.1010\n",
      "Epoch 31/50\n",
      "544/544 [==============================] - 1s 2ms/step - loss: 0.1561 - mean_squared_error: 0.1561 - val_loss: 0.0908 - val_mean_squared_error: 0.0908\n",
      "Epoch 32/50\n",
      "544/544 [==============================] - 1s 2ms/step - loss: 0.1630 - mean_squared_error: 0.1630 - val_loss: 0.0994 - val_mean_squared_error: 0.0994\n",
      "Epoch 33/50\n",
      "544/544 [==============================] - 1s 2ms/step - loss: 0.1582 - mean_squared_error: 0.1582 - val_loss: 0.1902 - val_mean_squared_error: 0.1902\n",
      "Epoch 34/50\n",
      "544/544 [==============================] - 1s 2ms/step - loss: 0.1974 - mean_squared_error: 0.1974 - val_loss: 0.1120 - val_mean_squared_error: 0.1120\n",
      "Epoch 35/50\n",
      "544/544 [==============================] - 1s 2ms/step - loss: 0.1939 - mean_squared_error: 0.1939 - val_loss: 0.1136 - val_mean_squared_error: 0.1136\n",
      "Epoch 36/50\n",
      "544/544 [==============================] - 1s 2ms/step - loss: 0.1547 - mean_squared_error: 0.1547 - val_loss: 0.1059 - val_mean_squared_error: 0.1059\n",
      "Epoch 37/50\n",
      "544/544 [==============================] - 1s 2ms/step - loss: 0.1892 - mean_squared_error: 0.1892 - val_loss: 0.1041 - val_mean_squared_error: 0.1041\n",
      "Epoch 38/50\n",
      "544/544 [==============================] - 1s 2ms/step - loss: 0.1381 - mean_squared_error: 0.1381 - val_loss: 0.1055 - val_mean_squared_error: 0.1055\n",
      "Epoch 39/50\n",
      "544/544 [==============================] - 1s 2ms/step - loss: 0.1556 - mean_squared_error: 0.1556 - val_loss: 0.1429 - val_mean_squared_error: 0.1429\n",
      "Epoch 40/50\n",
      "544/544 [==============================] - 1s 2ms/step - loss: 0.1573 - mean_squared_error: 0.1573 - val_loss: 0.1346 - val_mean_squared_error: 0.1346\n",
      "Epoch 41/50\n",
      "544/544 [==============================] - 1s 2ms/step - loss: 0.1412 - mean_squared_error: 0.1412 - val_loss: 0.1318 - val_mean_squared_error: 0.1318\n",
      "Epoch 42/50\n",
      "544/544 [==============================] - 1s 2ms/step - loss: 0.1440 - mean_squared_error: 0.1440 - val_loss: 0.1142 - val_mean_squared_error: 0.1142\n",
      "Epoch 43/50\n",
      "544/544 [==============================] - 1s 2ms/step - loss: 0.1383 - mean_squared_error: 0.1383 - val_loss: 0.1347 - val_mean_squared_error: 0.1347\n",
      "Epoch 44/50\n",
      "544/544 [==============================] - 1s 3ms/step - loss: 0.1684 - mean_squared_error: 0.1684 - val_loss: 0.1414 - val_mean_squared_error: 0.1414\n",
      "Epoch 45/50\n",
      "544/544 [==============================] - 1s 2ms/step - loss: 0.1450 - mean_squared_error: 0.1450 - val_loss: 0.1209 - val_mean_squared_error: 0.1209\n",
      "Epoch 46/50\n",
      "544/544 [==============================] - 1s 2ms/step - loss: 0.1372 - mean_squared_error: 0.1372 - val_loss: 0.1001 - val_mean_squared_error: 0.1001\n",
      "Epoch 47/50\n",
      "544/544 [==============================] - 1s 2ms/step - loss: 0.1497 - mean_squared_error: 0.1497 - val_loss: 0.1035 - val_mean_squared_error: 0.1035\n",
      "Epoch 48/50\n",
      "544/544 [==============================] - 1s 2ms/step - loss: 0.1336 - mean_squared_error: 0.1336 - val_loss: 0.1310 - val_mean_squared_error: 0.1310\n",
      "Epoch 49/50\n",
      "544/544 [==============================] - 1s 2ms/step - loss: 0.1381 - mean_squared_error: 0.1381 - val_loss: 0.0966 - val_mean_squared_error: 0.0966\n",
      "Epoch 50/50\n",
      "544/544 [==============================] - 1s 3ms/step - loss: 0.2168 - mean_squared_error: 0.2168 - val_loss: 0.0835 - val_mean_squared_error: 0.0835\n"
     ]
    }
   ],
   "source": [
    "# Train the model\n",
    "history = model.fit(X_train_norm, y_train_norm, batch_size=16, epochs=50, validation_data=(X_test_norm, y_test_norm))"
   ],
   "metadata": {
    "collapsed": false,
    "ExecuteTime": {
     "end_time": "2024-01-07T22:11:23.975137500Z",
     "start_time": "2024-01-07T22:10:24.639397600Z"
    }
   }
  },
  {
   "cell_type": "code",
   "execution_count": 364,
   "outputs": [
    {
     "data": {
      "text/plain": "        loss  mean_squared_error  val_loss  val_mean_squared_error  epoch\n45  0.137199            0.137199  0.100124                0.100124     45\n46  0.149678            0.149678  0.103488                0.103488     46\n47  0.133641            0.133641  0.131032                0.131032     47\n48  0.138082            0.138082  0.096627                0.096627     48\n49  0.216801            0.216801  0.083495                0.083495     49",
      "text/html": "<div>\n<style scoped>\n    .dataframe tbody tr th:only-of-type {\n        vertical-align: middle;\n    }\n\n    .dataframe tbody tr th {\n        vertical-align: top;\n    }\n\n    .dataframe thead th {\n        text-align: right;\n    }\n</style>\n<table border=\"1\" class=\"dataframe\">\n  <thead>\n    <tr style=\"text-align: right;\">\n      <th></th>\n      <th>loss</th>\n      <th>mean_squared_error</th>\n      <th>val_loss</th>\n      <th>val_mean_squared_error</th>\n      <th>epoch</th>\n    </tr>\n  </thead>\n  <tbody>\n    <tr>\n      <th>45</th>\n      <td>0.137199</td>\n      <td>0.137199</td>\n      <td>0.100124</td>\n      <td>0.100124</td>\n      <td>45</td>\n    </tr>\n    <tr>\n      <th>46</th>\n      <td>0.149678</td>\n      <td>0.149678</td>\n      <td>0.103488</td>\n      <td>0.103488</td>\n      <td>46</td>\n    </tr>\n    <tr>\n      <th>47</th>\n      <td>0.133641</td>\n      <td>0.133641</td>\n      <td>0.131032</td>\n      <td>0.131032</td>\n      <td>47</td>\n    </tr>\n    <tr>\n      <th>48</th>\n      <td>0.138082</td>\n      <td>0.138082</td>\n      <td>0.096627</td>\n      <td>0.096627</td>\n      <td>48</td>\n    </tr>\n    <tr>\n      <th>49</th>\n      <td>0.216801</td>\n      <td>0.216801</td>\n      <td>0.083495</td>\n      <td>0.083495</td>\n      <td>49</td>\n    </tr>\n  </tbody>\n</table>\n</div>"
     },
     "execution_count": 364,
     "metadata": {},
     "output_type": "execute_result"
    }
   ],
   "source": [
    "# Show history in dataframe\n",
    "hist_df = pd.DataFrame(history.history)\n",
    "hist_df['epoch'] = history.epoch\n",
    "hist_df.tail()"
   ],
   "metadata": {
    "collapsed": false,
    "ExecuteTime": {
     "end_time": "2024-01-07T22:11:23.982310Z",
     "start_time": "2024-01-07T22:11:23.953746900Z"
    }
   }
  },
  {
   "cell_type": "markdown",
   "source": [
    "Calculate the R² score"
   ],
   "metadata": {
    "collapsed": false
   }
  },
  {
   "cell_type": "markdown",
   "source": [
    "R² score serves as an evaluation metric, assessing the model's ability to accurately predict the dependent variable based on the independent variables. A higher value of R² is generally synonymous of a better model."
   ],
   "metadata": {
    "collapsed": false
   }
  },
  {
   "cell_type": "code",
   "execution_count": 365,
   "outputs": [
    {
     "name": "stdout",
     "output_type": "stream",
     "text": [
      "68/68 [==============================] - 0s 1ms/step\n",
      "R² score: 0.8974345643377349\n"
     ]
    }
   ],
   "source": [
    "from sklearn.metrics import mean_squared_error\n",
    "\n",
    "def calculate_r2_score(y_true, y_pred):\n",
    "    y_true_arr = np.array(y_true)\n",
    "    y_pred_arr = np.array(y_pred)\n",
    "    mse = mean_squared_error(y_true_arr, y_pred_arr)\n",
    "    r2_score = 1 - mse / np.var(y_true_arr)\n",
    "    return r2_score\n",
    "\n",
    "y_pred = model.predict(X_test_norm)\n",
    "r2_score = calculate_r2_score(y_test_norm, y_pred)\n",
    "print(\"R² score:\", r2_score)"
   ],
   "metadata": {
    "collapsed": false,
    "ExecuteTime": {
     "end_time": "2024-01-07T22:11:24.251652Z",
     "start_time": "2024-01-07T22:11:23.968518400Z"
    }
   }
  },
  {
   "cell_type": "markdown",
   "source": [
    "Plot the loss curves"
   ],
   "metadata": {
    "collapsed": false
   }
  },
  {
   "cell_type": "code",
   "execution_count": 366,
   "outputs": [
    {
     "data": {
      "text/plain": "<Figure size 640x480 with 1 Axes>",
      "image/png": "[encoded data removed]"
     },
     "metadata": {},
     "output_type": "display_data"
    }
   ],
   "source": [
    "plt.figure()\n",
    "plt.plot(hist_df['loss'])\n",
    "plt.plot(hist_df['val_loss'])\n",
    "plt.title('Model loss')\n",
    "plt.ylabel('Loss')\n",
    "plt.xlabel('Epoch')\n",
    "plt.legend(['Train', 'Val'], loc='upper right')\n",
    "plt.show()"
   ],
   "metadata": {
    "collapsed": false,
    "ExecuteTime": {
     "end_time": "2024-01-07T22:11:24.404236500Z",
     "start_time": "2024-01-07T22:11:24.241248200Z"
    }
   }
  },
  {
   "cell_type": "markdown",
   "source": [
    "We can see that the loss is decreasing with the number of epochs. This means that the model is learning and is not overfitting. This is a good sign. However, the validation loss is not decreasing smoothly."
   ],
   "metadata": {
    "collapsed": false
   }
  },
  {
   "cell_type": "markdown",
   "source": [
    "# 5. Use the model to make predictions"
   ],
   "metadata": {
    "collapsed": false
   }
  },
  {
   "cell_type": "markdown",
   "source": [
    "We are going to make prediction on a new dataset. First we import it."
   ],
   "metadata": {
    "collapsed": false
   }
  },
  {
   "cell_type": "code",
   "execution_count": 367,
   "outputs": [
    {
     "data": {
      "text/plain": "    Z   A     E  Theta   omega  E_omega     cos_Theta    E_ela   E_inela\n0  20  40  0.12   90.0  0.0125   0.0258  6.123234e-17  0.01359  0.313311\n1  20  40  0.12   90.0  0.0175   0.0246  6.123234e-17  0.01359  0.313311\n2  20  40  0.12   90.0  0.0225   0.0234  6.123234e-17  0.01359  0.313311\n3  20  40  0.12   90.0  0.0275   0.0222  6.123234e-17  0.01359  0.313311\n4  20  40  0.12   90.0  0.0325   0.0210  6.123234e-17  0.01359  0.313311",
      "text/html": "<div>\n<style scoped>\n    .dataframe tbody tr th:only-of-type {\n        vertical-align: middle;\n    }\n\n    .dataframe tbody tr th {\n        vertical-align: top;\n    }\n\n    .dataframe thead th {\n        text-align: right;\n    }\n</style>\n<table border=\"1\" class=\"dataframe\">\n  <thead>\n    <tr style=\"text-align: right;\">\n      <th></th>\n      <th>Z</th>\n      <th>A</th>\n      <th>E</th>\n      <th>Theta</th>\n      <th>omega</th>\n      <th>E_omega</th>\n      <th>cos_Theta</th>\n      <th>E_ela</th>\n      <th>E_inela</th>\n    </tr>\n  </thead>\n  <tbody>\n    <tr>\n      <th>0</th>\n      <td>20</td>\n      <td>40</td>\n      <td>0.12</td>\n      <td>90.0</td>\n      <td>0.0125</td>\n      <td>0.0258</td>\n      <td>6.123234e-17</td>\n      <td>0.01359</td>\n      <td>0.313311</td>\n    </tr>\n    <tr>\n      <th>1</th>\n      <td>20</td>\n      <td>40</td>\n      <td>0.12</td>\n      <td>90.0</td>\n      <td>0.0175</td>\n      <td>0.0246</td>\n      <td>6.123234e-17</td>\n      <td>0.01359</td>\n      <td>0.313311</td>\n    </tr>\n    <tr>\n      <th>2</th>\n      <td>20</td>\n      <td>40</td>\n      <td>0.12</td>\n      <td>90.0</td>\n      <td>0.0225</td>\n      <td>0.0234</td>\n      <td>6.123234e-17</td>\n      <td>0.01359</td>\n      <td>0.313311</td>\n    </tr>\n    <tr>\n      <th>3</th>\n      <td>20</td>\n      <td>40</td>\n      <td>0.12</td>\n      <td>90.0</td>\n      <td>0.0275</td>\n      <td>0.0222</td>\n      <td>6.123234e-17</td>\n      <td>0.01359</td>\n      <td>0.313311</td>\n    </tr>\n    <tr>\n      <th>4</th>\n      <td>20</td>\n      <td>40</td>\n      <td>0.12</td>\n      <td>90.0</td>\n      <td>0.0325</td>\n      <td>0.0210</td>\n      <td>6.123234e-17</td>\n      <td>0.01359</td>\n      <td>0.313311</td>\n    </tr>\n  </tbody>\n</table>\n</div>"
     },
     "execution_count": 367,
     "metadata": {},
     "output_type": "execute_result"
    }
   ],
   "source": [
    "df40 = pd.read_csv('data40_x.csv')\n",
    "df40.head()"
   ],
   "metadata": {
    "collapsed": false,
    "ExecuteTime": {
     "end_time": "2024-01-07T22:11:24.434450400Z",
     "start_time": "2024-01-07T22:11:24.401243Z"
    }
   }
  },
  {
   "cell_type": "markdown",
   "source": [
    "Description of the dataset"
   ],
   "metadata": {
    "collapsed": false
   }
  },
  {
   "cell_type": "code",
   "execution_count": 368,
   "outputs": [
    {
     "data": {
      "text/plain": "                 Z       A            E        Theta        omega  \\\ncount  1410.000000  1410.0  1410.000000  1410.000000  1410.000000   \nmean     19.878014    40.0     0.480343    93.117749     0.164396   \nstd       0.478804     0.0     0.462814    40.266437     0.147870   \nmin      18.000000    40.0     0.120000    15.541000     0.000100   \n25%      20.000000    40.0     0.280000    60.000000     0.062500   \n50%      20.000000    40.0     0.360000    90.000000     0.127500   \n75%      20.000000    40.0     0.480000   140.000000     0.222500   \nmax      20.000000    40.0     2.222000   140.000000     0.937000   \n\n           E_omega     cos_Theta        E_ela      E_inela  \ncount  1410.000000  1.410000e+03  1410.000000  1410.000000  \nmean      0.174845 -4.655214e-02     0.105657     0.356336  \nstd       0.122561  6.082683e-01     0.055590     0.045528  \nmin       0.015600 -7.660444e-01     0.012554     0.296845  \n25%       0.082850 -7.660444e-01     0.063861     0.324725  \n50%       0.143977  6.123234e-17     0.099725     0.346879  \n75%       0.236985  5.000000e-01     0.140738     0.384172  \nmax       0.724785  9.634390e-01     0.227664     0.487934  ",
      "text/html": "<div>\n<style scoped>\n    .dataframe tbody tr th:only-of-type {\n        vertical-align: middle;\n    }\n\n    .dataframe tbody tr th {\n        vertical-align: top;\n    }\n\n    .dataframe thead th {\n        text-align: right;\n    }\n</style>\n<table border=\"1\" class=\"dataframe\">\n  <thead>\n    <tr style=\"text-align: right;\">\n      <th></th>\n      <th>Z</th>\n      <th>A</th>\n      <th>E</th>\n      <th>Theta</th>\n      <th>omega</th>\n      <th>E_omega</th>\n      <th>cos_Theta</th>\n      <th>E_ela</th>\n      <th>E_inela</th>\n    </tr>\n  </thead>\n  <tbody>\n    <tr>\n      <th>count</th>\n      <td>1410.000000</td>\n      <td>1410.0</td>\n      <td>1410.000000</td>\n      <td>1410.000000</td>\n      <td>1410.000000</td>\n      <td>1410.000000</td>\n      <td>1.410000e+03</td>\n      <td>1410.000000</td>\n      <td>1410.000000</td>\n    </tr>\n    <tr>\n      <th>mean</th>\n      <td>19.878014</td>\n      <td>40.0</td>\n      <td>0.480343</td>\n      <td>93.117749</td>\n      <td>0.164396</td>\n      <td>0.174845</td>\n      <td>-4.655214e-02</td>\n      <td>0.105657</td>\n      <td>0.356336</td>\n    </tr>\n    <tr>\n      <th>std</th>\n      <td>0.478804</td>\n      <td>0.0</td>\n      <td>0.462814</td>\n      <td>40.266437</td>\n      <td>0.147870</td>\n      <td>0.122561</td>\n      <td>6.082683e-01</td>\n      <td>0.055590</td>\n      <td>0.045528</td>\n    </tr>\n    <tr>\n      <th>min</th>\n      <td>18.000000</td>\n      <td>40.0</td>\n      <td>0.120000</td>\n      <td>15.541000</td>\n      <td>0.000100</td>\n      <td>0.015600</td>\n      <td>-7.660444e-01</td>\n      <td>0.012554</td>\n      <td>0.296845</td>\n    </tr>\n    <tr>\n      <th>25%</th>\n      <td>20.000000</td>\n      <td>40.0</td>\n      <td>0.280000</td>\n      <td>60.000000</td>\n      <td>0.062500</td>\n      <td>0.082850</td>\n      <td>-7.660444e-01</td>\n      <td>0.063861</td>\n      <td>0.324725</td>\n    </tr>\n    <tr>\n      <th>50%</th>\n      <td>20.000000</td>\n      <td>40.0</td>\n      <td>0.360000</td>\n      <td>90.000000</td>\n      <td>0.127500</td>\n      <td>0.143977</td>\n      <td>6.123234e-17</td>\n      <td>0.099725</td>\n      <td>0.346879</td>\n    </tr>\n    <tr>\n      <th>75%</th>\n      <td>20.000000</td>\n      <td>40.0</td>\n      <td>0.480000</td>\n      <td>140.000000</td>\n      <td>0.222500</td>\n      <td>0.236985</td>\n      <td>5.000000e-01</td>\n      <td>0.140738</td>\n      <td>0.384172</td>\n    </tr>\n    <tr>\n      <th>max</th>\n      <td>20.000000</td>\n      <td>40.0</td>\n      <td>2.222000</td>\n      <td>140.000000</td>\n      <td>0.937000</td>\n      <td>0.724785</td>\n      <td>9.634390e-01</td>\n      <td>0.227664</td>\n      <td>0.487934</td>\n    </tr>\n  </tbody>\n</table>\n</div>"
     },
     "execution_count": 368,
     "metadata": {},
     "output_type": "execute_result"
    }
   ],
   "source": [
    "df40.describe()"
   ],
   "metadata": {
    "collapsed": false,
    "ExecuteTime": {
     "end_time": "2024-01-07T22:11:24.534533200Z",
     "start_time": "2024-01-07T22:11:24.422485700Z"
    }
   }
  },
  {
   "cell_type": "markdown",
   "source": [
    "Make predictions on the dataset"
   ],
   "metadata": {
    "collapsed": false
   }
  },
  {
   "cell_type": "markdown",
   "source": [
    "First, we need to normalize the dataset."
   ],
   "metadata": {
    "collapsed": false
   }
  },
  {
   "cell_type": "code",
   "execution_count": 369,
   "outputs": [
    {
     "data": {
      "text/plain": "          Z    A         E     Theta     omega   E_omega  cos_Theta     E_ela  \\\n0  0.254862  0.0 -0.778869 -0.077455 -1.027596 -1.216524   0.076559 -1.656766   \n1  0.254862  0.0 -0.778869 -0.077455 -0.993770 -1.226318   0.076559 -1.656766   \n2  0.254862  0.0 -0.778869 -0.077455 -0.959945 -1.236113   0.076559 -1.656766   \n3  0.254862  0.0 -0.778869 -0.077455 -0.926119 -1.245907   0.076559 -1.656766   \n4  0.254862  0.0 -0.778869 -0.077455 -0.892294 -1.255702   0.076559 -1.656766   \n\n    E_inela  \n0 -0.945366  \n1 -0.945366  \n2 -0.945366  \n3 -0.945366  \n4 -0.945366  ",
      "text/html": "<div>\n<style scoped>\n    .dataframe tbody tr th:only-of-type {\n        vertical-align: middle;\n    }\n\n    .dataframe tbody tr th {\n        vertical-align: top;\n    }\n\n    .dataframe thead th {\n        text-align: right;\n    }\n</style>\n<table border=\"1\" class=\"dataframe\">\n  <thead>\n    <tr style=\"text-align: right;\">\n      <th></th>\n      <th>Z</th>\n      <th>A</th>\n      <th>E</th>\n      <th>Theta</th>\n      <th>omega</th>\n      <th>E_omega</th>\n      <th>cos_Theta</th>\n      <th>E_ela</th>\n      <th>E_inela</th>\n    </tr>\n  </thead>\n  <tbody>\n    <tr>\n      <th>0</th>\n      <td>0.254862</td>\n      <td>0.0</td>\n      <td>-0.778869</td>\n      <td>-0.077455</td>\n      <td>-1.027596</td>\n      <td>-1.216524</td>\n      <td>0.076559</td>\n      <td>-1.656766</td>\n      <td>-0.945366</td>\n    </tr>\n    <tr>\n      <th>1</th>\n      <td>0.254862</td>\n      <td>0.0</td>\n      <td>-0.778869</td>\n      <td>-0.077455</td>\n      <td>-0.993770</td>\n      <td>-1.226318</td>\n      <td>0.076559</td>\n      <td>-1.656766</td>\n      <td>-0.945366</td>\n    </tr>\n    <tr>\n      <th>2</th>\n      <td>0.254862</td>\n      <td>0.0</td>\n      <td>-0.778869</td>\n      <td>-0.077455</td>\n      <td>-0.959945</td>\n      <td>-1.236113</td>\n      <td>0.076559</td>\n      <td>-1.656766</td>\n      <td>-0.945366</td>\n    </tr>\n    <tr>\n      <th>3</th>\n      <td>0.254862</td>\n      <td>0.0</td>\n      <td>-0.778869</td>\n      <td>-0.077455</td>\n      <td>-0.926119</td>\n      <td>-1.245907</td>\n      <td>0.076559</td>\n      <td>-1.656766</td>\n      <td>-0.945366</td>\n    </tr>\n    <tr>\n      <th>4</th>\n      <td>0.254862</td>\n      <td>0.0</td>\n      <td>-0.778869</td>\n      <td>-0.077455</td>\n      <td>-0.892294</td>\n      <td>-1.255702</td>\n      <td>0.076559</td>\n      <td>-1.656766</td>\n      <td>-0.945366</td>\n    </tr>\n  </tbody>\n</table>\n</div>"
     },
     "execution_count": 369,
     "metadata": {},
     "output_type": "execute_result"
    }
   ],
   "source": [
    "# Normalize the dataset using StandardScaler\n",
    "from sklearn.preprocessing import StandardScaler\n",
    "\n",
    "scaler = StandardScaler()\n",
    "df40_norm = scaler.fit_transform(df40)\n",
    "\n",
    "df40_norm = pd.DataFrame(df40_norm, columns=df40.columns)\n",
    "df40_norm.head()"
   ],
   "metadata": {
    "collapsed": false,
    "ExecuteTime": {
     "end_time": "2024-01-07T22:11:24.535530600Z",
     "start_time": "2024-01-07T22:11:24.447368300Z"
    }
   }
  },
  {
   "cell_type": "markdown",
   "source": [
    "Then, we can make predictions on the normalized dataset."
   ],
   "metadata": {
    "collapsed": false
   }
  },
  {
   "cell_type": "code",
   "execution_count": 370,
   "outputs": [
    {
     "name": "stdout",
     "output_type": "stream",
     "text": [
      "45/45 [==============================] - 0s 1ms/step\n"
     ]
    },
    {
     "data": {
      "text/plain": "   cross_section_norm\n0            2.231116\n1            1.708582\n2            1.191411\n3            0.685208\n4            0.182130",
      "text/html": "<div>\n<style scoped>\n    .dataframe tbody tr th:only-of-type {\n        vertical-align: middle;\n    }\n\n    .dataframe tbody tr th {\n        vertical-align: top;\n    }\n\n    .dataframe thead th {\n        text-align: right;\n    }\n</style>\n<table border=\"1\" class=\"dataframe\">\n  <thead>\n    <tr style=\"text-align: right;\">\n      <th></th>\n      <th>cross_section_norm</th>\n    </tr>\n  </thead>\n  <tbody>\n    <tr>\n      <th>0</th>\n      <td>2.231116</td>\n    </tr>\n    <tr>\n      <th>1</th>\n      <td>1.708582</td>\n    </tr>\n    <tr>\n      <th>2</th>\n      <td>1.191411</td>\n    </tr>\n    <tr>\n      <th>3</th>\n      <td>0.685208</td>\n    </tr>\n    <tr>\n      <th>4</th>\n      <td>0.182130</td>\n    </tr>\n  </tbody>\n</table>\n</div>"
     },
     "execution_count": 370,
     "metadata": {},
     "output_type": "execute_result"
    }
   ],
   "source": [
    "y_pred = model.predict(df40_norm)\n",
    "y_pred = pd.DataFrame(y_pred, columns=[\"cross_section_norm\"])\n",
    "y_pred.head()"
   ],
   "metadata": {
    "collapsed": false,
    "ExecuteTime": {
     "end_time": "2024-01-07T22:11:24.834605400Z",
     "start_time": "2024-01-07T22:11:24.464054600Z"
    }
   }
  },
  {
   "cell_type": "markdown",
   "source": [
    "Denormalize the predictions"
   ],
   "metadata": {
    "collapsed": false
   }
  },
  {
   "cell_type": "markdown",
   "source": [
    "To denormalize the predictions, we use the inverse_transform method of the StandardScaler class. We need to, first, fit the scaler on the target variable. Then we can use it to denormalize the predictions."
   ],
   "metadata": {
    "collapsed": false
   }
  },
  {
   "cell_type": "code",
   "outputs": [
    {
     "data": {
      "text/plain": "   cross_section_denorm\n0          10800.948242\n1           8551.477539\n2           6325.094727\n3           4145.925781\n4           1980.213501",
      "text/html": "<div>\n<style scoped>\n    .dataframe tbody tr th:only-of-type {\n        vertical-align: middle;\n    }\n\n    .dataframe tbody tr th {\n        vertical-align: top;\n    }\n\n    .dataframe thead th {\n        text-align: right;\n    }\n</style>\n<table border=\"1\" class=\"dataframe\">\n  <thead>\n    <tr style=\"text-align: right;\">\n      <th></th>\n      <th>cross_section_denorm</th>\n    </tr>\n  </thead>\n  <tbody>\n    <tr>\n      <th>0</th>\n      <td>10800.948242</td>\n    </tr>\n    <tr>\n      <th>1</th>\n      <td>8551.477539</td>\n    </tr>\n    <tr>\n      <th>2</th>\n      <td>6325.094727</td>\n    </tr>\n    <tr>\n      <th>3</th>\n      <td>4145.925781</td>\n    </tr>\n    <tr>\n      <th>4</th>\n      <td>1980.213501</td>\n    </tr>\n  </tbody>\n</table>\n</div>"
     },
     "execution_count": 371,
     "metadata": {},
     "output_type": "execute_result"
    }
   ],
   "source": [
    "scaler.fit_transform(y.values.reshape(-1, 1))\n",
    "y_pred_denorm = scaler.inverse_transform(y_pred)\n",
    "y_pred_denorm = pd.DataFrame(y_pred_denorm, columns=[\"cross_section_denorm\"])\n",
    "\n",
    "y_pred_denorm.head()"
   ],
   "metadata": {
    "collapsed": false,
    "ExecuteTime": {
     "end_time": "2024-01-07T22:11:24.846979600Z",
     "start_time": "2024-01-07T22:11:24.610417900Z"
    }
   },
   "execution_count": 371
  },
  {
   "cell_type": "markdown",
   "source": [
    "Save the predictions to a csv file"
   ],
   "metadata": {
    "collapsed": false
   }
  },
  {
   "cell_type": "code",
   "execution_count": 372,
   "outputs": [
    {
     "name": "stdout",
     "output_type": "stream",
     "text": [
      "Predictions saved to data40_y.csv\n"
     ]
    }
   ],
   "source": [
    "df_pred_combined = pd.concat([y_pred, y_pred_denorm], axis=1)\n",
    "df_pred_combined.to_csv('data40_y.csv', index=False)\n",
    "print(\"Predictions saved to data40_y.csv\")"
   ],
   "metadata": {
    "collapsed": false,
    "ExecuteTime": {
     "end_time": "2024-01-07T22:11:24.929453600Z",
     "start_time": "2024-01-07T22:11:24.624244900Z"
    }
   }
  }
 ],
 "metadata": {
  "kernelspec": {
   "display_name": "Python 3",
   "language": "python",
   "name": "python3"
  },
  "language_info": {
   "codemirror_mode": {
    "name": "ipython",
    "version": 2
   },
   "file_extension": ".py",
   "mimetype": "text/x-python",
   "name": "python",
   "nbconvert_exporter": "python",
   "pygments_lexer": "ipython2",
   "version": "2.7.6"
  }
 },
 "nbformat": 4,
 "nbformat_minor": 0
}
